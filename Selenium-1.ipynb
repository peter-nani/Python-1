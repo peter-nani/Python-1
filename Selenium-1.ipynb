{
  "nbformat": 4,
  "nbformat_minor": 0,
  "metadata": {
    "colab": {
      "name": "Untitled2.ipynb",
      "provenance": [],
      "authorship_tag": "ABX9TyObJVHVZzJ7DQqCXYUQ7sgj",
      "include_colab_link": true
    },
    "kernelspec": {
      "name": "python3",
      "display_name": "Python 3"
    }
  },
  "cells": [
    {
      "cell_type": "markdown",
      "metadata": {
        "id": "view-in-github",
        "colab_type": "text"
      },
      "source": [
        "<a href=\"https://colab.research.google.com/github/peter-nani/Python-1/blob/master/Selenium-1.ipynb\" target=\"_parent\"><img src=\"https://colab.research.google.com/assets/colab-badge.svg\" alt=\"Open In Colab\"/></a>"
      ]
    },
    {
      "cell_type": "code",
      "metadata": {
        "id": "oWJKKTGdfgNx",
        "colab_type": "code",
        "colab": {}
      },
      "source": [
        "!pip install selenium\n",
        "!apt-get update # to update ubuntu to correctly run apt install\n",
        "!apt install chromium-chromedriver\n",
        "!cp /usr/lib/chromium-browser/chromedriver /usr/bin"
      ],
      "execution_count": null,
      "outputs": []
    },
    {
      "cell_type": "code",
      "metadata": {
        "id": "eStqNsargqqA",
        "colab_type": "code",
        "colab": {}
      },
      "source": [
        "#https://www.selenium.dev/selenium/docs/api/py/_modules/selenium/webdriver/chrome/webdriver.html  ---- > Source code of selinum driver.\n",
        "import sys\n",
        "sys.path.insert(0,'/usr/lib/chromium-browser/chromedriver')\n",
        "from selenium import webdriver\n",
        "chrome_options = webdriver.ChromeOptions()\n",
        "chrome_options.add_argument('--headless')\n",
        "chrome_options.add_argument('--no-sandbox')\n",
        "chrome_options.add_argument('--disable-dev-shm-usage')\n",
        "wd = webdriver.Chrome('/usr/lib/chromium-browser/chromedriver',options = chrome_options)\n",
        "wd.get(\"https://google.com/\")\n",
        "search_field = wd.find_element_by_name(\"q\")\n",
        "search_field.send_keys(\"Selenium WebDriver Interview questions\")\n",
        "search_field.submit()\n",
        "lists= wd.find_elements_by_class_name(\"r\")\n",
        "print (\"Found \" + str(len(lists)) + \" searches:\")\n",
        "i=0\n",
        "for listitem in lists:\n",
        "   print (listitem.get_attribute(\"innerHTML\"))\n",
        "   i=i+1\n",
        "   if(i>10):\n",
        "      break\n",
        "wd.quit()"
      ],
      "execution_count": null,
      "outputs": []
    }
  ]
}